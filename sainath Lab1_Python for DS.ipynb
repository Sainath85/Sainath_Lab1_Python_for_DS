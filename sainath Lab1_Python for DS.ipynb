{
 "cells": [
  {
   "cell_type": "code",
   "execution_count": null,
   "id": "667fb848",
   "metadata": {},
   "outputs": [],
   "source": [
    "import mysql.connector\n",
    "import pandas as pd"
   ]
  },
  {
   "cell_type": "code",
   "execution_count": null,
   "id": "31b18d87",
   "metadata": {},
   "outputs": [],
   "source": [
    "connection = mysql.connector.connect(host=\"localhost\",\n",
    "                                   user=\"root\",\n",
    "                                   passwd = \"Sainath@85\")\n",
    "cursorObject = connection.cursor()\n",
    "\n",
    "print(connection)"
   ]
  },
  {
   "cell_type": "code",
   "execution_count": null,
   "id": "f066dc7c",
   "metadata": {},
   "outputs": [],
   "source": [
    "Query0=\"\"\"create database e_commerce\"\"\"\n",
    "\n",
    "cursorObject.execute(Query0)"
   ]
  },
  {
   "cell_type": "code",
   "execution_count": null,
   "id": "84693193",
   "metadata": {},
   "outputs": [],
   "source": [
    "connection = mysql.connector.connect(host=\"localhost\",\n",
    "                                   user=\"root\",\n",
    "                                   passwd = \"Sainath@85\",\n",
    "                                   database=\"e_commerce\")\n",
    "cursorObject = connection.cursor()\n",
    "\n",
    "print(connection)"
   ]
  },
  {
   "cell_type": "markdown",
   "id": "93db440f",
   "metadata": {},
   "source": [
    "## Q1. Create tables for supplier, customer, category, product, productDetails, order, rating to store the data for the E-commerce with the schema definition given below."
   ]
  },
  {
   "cell_type": "code",
   "execution_count": null,
   "id": "ec9d9dcd",
   "metadata": {},
   "outputs": [],
   "source": [
    "create_tables =\"\"\"create table supplier(SUPP_ID int primary key, SUPP_NAME varchar(50), SUPP_CITY varchar(50), SUPP_PHONE varchar(10));\n",
    "\n",
    "                  create table customer(CUS_ID INT NOT NULL, CUS_NAME VARCHAR(20) NULL DEFAULT NULL, CUS_PHONE VARCHAR(10), CUS_CITY varchar(30) ,CUS_GENDER CHAR,PRIMARY KEY (CUS_ID));\n",
    "                  \n",
    "                  create table category(CAT_ID INT NOT NULL, CAT_NAME VARCHAR(20) NULL DEFAULT NULL,PRIMARY KEY (CAT_ID));\n",
    "                  \n",
    "                  create table product(PRO_ID INT NOT NULL, PRO_NAME VARCHAR(20) NULL DEFAULT NULL, PRO_DESC VARCHAR(60) NULL DEFAULT NULL, CAT_ID INT NOT NULL,PRIMARY KEY (PRO_ID),FOREIGN KEY (CAT_ID) REFERENCES CATEGORY (CAT_ID));\n",
    "                  \n",
    "                  create table product_details(PROD_ID INT NOT NULL, PRO_ID INT NOT NULL, SUPP_ID INT NOT NULL, PROD_PRICE INT NOT NULL,\n",
    "                  PRIMARY KEY (PROD_ID),FOREIGN KEY (PRO_ID) REFERENCES PRODUCT (PRO_ID), FOREIGN KEY (SUPP_ID) REFERENCES SUPPLIER(SUPP_ID));\n",
    "                  \n",
    "                  create table orders(ORD_ID INT NOT NULL, ORD_AMOUNT INT NOT NULL, ORD_DATE DATE, CUS_ID INT NOT NULL, PROD_ID INT NOT NULL,PRIMARY KEY (ORD_ID),FOREIGN KEY (CUS_ID) REFERENCES CUSTOMER(CUS_ID),FOREIGN KEY (PROD_ID) REFERENCES PRODUCT_DETAILS(PROD_ID));\n",
    "                  \n",
    "                  create table rating(RAT_ID INT NOT NULL, CUS_ID INT NOT NULL, SUPP_ID INT NOT NULL, RAT_RATSTARS INT NOT NULL,PRIMARY KEY (RAT_ID),FOREIGN KEY (SUPP_ID) REFERENCES SUPPLIER (SUPP_ID),FOREIGN KEY (CUS_ID) REFERENCES CUSTOMER(CUS_ID));\"\"\"\n",
    "\n",
    "cursorObject.execute(create_tables)\n"
   ]
  },
  {
   "cell_type": "markdown",
   "id": "642c4967",
   "metadata": {},
   "source": [
    "## Q2. Insert the following data in the table created above"
   ]
  },
  {
   "cell_type": "code",
   "execution_count": null,
   "id": "559c1b1a",
   "metadata": {
    "scrolled": true
   },
   "outputs": [],
   "source": [
    "insert_supplier = \"\"\"insert into supplier(SUPP_ID,SUPP_NAME,SUPP_CITY,SUPP_PHONE)VALUES(%s,%s,%s,%s)\"\"\"\n",
    "\n",
    "val=[(1,'Rajesh Retails','Delhi','1234567890'),\n",
    "     (2,'Appario Ltd.','Mumbai','2589631447'),\n",
    "     (3,'Knome products','Bangalore','9785462315'),\n",
    "     (4,'Bansal Retails','Kochi','8975463285'),\n",
    "     (5,'Mittal Ltd.','Lucknow','7898456532')]\n",
    "\n",
    "cursorObject.executemany(insert_supplier,val)\n",
    "\n",
    "connection.commit()"
   ]
  },
  {
   "cell_type": "code",
   "execution_count": null,
   "id": "2dedcef4",
   "metadata": {},
   "outputs": [],
   "source": [
    "insert_customer = \"\"\"insert into customer(CUS_ID,CUS_NAME,CUS_PHONE,CUS_CITY,CUS_GENDER)values(%s,%s,%s,%s,%s)\"\"\"\n",
    "\n",
    "val=[(1,'AAKASH',9999999999,'DELHI','M'),\n",
    "     (2,'AMAN',9785463215,'NOIDA','M'),\n",
    "     (3,'NEHA',9999999998,'MUMBAI','F'),\n",
    "     (4,'MEGHA',9994562399,'KOLKATA','F'),\n",
    "     (5,'PULKIT',7895999999,'LUCKNOW','M')]\n",
    "\n",
    "cursorObject.executemany(insert_customer,val)\n",
    "\n",
    "connection.commit()"
   ]
  },
  {
   "cell_type": "code",
   "execution_count": null,
   "id": "73242fb5",
   "metadata": {},
   "outputs": [],
   "source": [
    "insert_category = \"\"\"insert into category(CAT_ID,CAT_NAME)values(%s,%s)\"\"\"\n",
    "\n",
    "val=[(1,'BOOKS'),\n",
    "     (2,'GAMES'),\n",
    "     (3,'GROCERIES'),\n",
    "     (4,'ELECTRONICS'),\n",
    "     (5,'CLOTHES')]\n",
    "\n",
    "cursorObject.executemany(insert_category,val)\n",
    "\n",
    "connection.commit()"
   ]
  },
  {
   "cell_type": "code",
   "execution_count": null,
   "id": "49697d0f",
   "metadata": {},
   "outputs": [],
   "source": [
    "insert_product=\"\"\"insert into product(PRO_ID,PRO_NAME,PRO_DESC,CAT_ID)values(%s,%s,%s,%s)\"\"\"\n",
    "\n",
    "val=[(1,'GTA V','BCBSCIBJCDSND',2),\n",
    "     (2,'TSHIRT','NUCSCUISIDNC',5),\n",
    "     (3,'ROG LAPTOP','CNUSDICNUC',4),\n",
    "     (4,'OATS','CIONSDCINSDI',3),\n",
    "     (5,'HARRY PORTER','CISBDICJSCN',1)]\n",
    "\n",
    "cursorObject.executemany(insert_product,val)\n",
    "\n",
    "connection.commit()"
   ]
  },
  {
   "cell_type": "code",
   "execution_count": null,
   "id": "05bad3ef",
   "metadata": {},
   "outputs": [],
   "source": [
    "insert_product_details=\"\"\"insert into product_details(PROD_ID,PRO_ID,SUPP_ID,PROD_PRICE)values(%s,%s,%s,%s)\"\"\"\n",
    "\n",
    "val=[(1,1,2,1500),\n",
    "     (2,3,5,30000),\n",
    "     (3,5,1,3000),\n",
    "     (4,2,3,2500),\n",
    "     (5,4,1,1000)]\n",
    "\n",
    "cursorObject.executemany(insert_product_details,val)\n",
    "\n",
    "connection.commit()"
   ]
  },
  {
   "cell_type": "code",
   "execution_count": null,
   "id": "0f15a2c0",
   "metadata": {},
   "outputs": [],
   "source": [
    "insert_orders=\"\"\"insert into orders(ORD_ID,ORD_AMOUNT,ORD_DATE,CUS_ID,PROD_ID)VALUES(%s,%s,%s,%s,%s)\"\"\"\n",
    "\n",
    "val=[(20,1500,'2021-10-12',3,5),\n",
    "     (25,30500,'2021-09-16',5,2),\n",
    "     (26,2000,'2021-10-05',1,1),\n",
    "     (30,3500,'2021-08-16',4,3),\n",
    "     (50,2000,'2021-10-06',2,1)]\n",
    "\n",
    "cursorObject.executemany(insert_orders,val)\n",
    "\n",
    "connection.commit()\n",
    "\n"
   ]
  },
  {
   "cell_type": "code",
   "execution_count": null,
   "id": "d814d8cf",
   "metadata": {},
   "outputs": [],
   "source": [
    "insert_rating=\"\"\"insert into rating(RAT_ID,CUS_ID,SUPP_ID,RAT_RATSTARS)VALUES(%s,%s,%s,%s)\"\"\"\n",
    "\n",
    "val=[(1,2,2,4),\n",
    "     (2,3,4,3),\n",
    "     (3,5,1,5),\n",
    "     (4,1,3,2),\n",
    "     (5,4,5,4)]\n",
    "\n",
    "cursorObject.executemany(insert_rating,val)\n",
    "\n",
    "connection.commit()"
   ]
  },
  {
   "cell_type": "markdown",
   "id": "6b90edd2",
   "metadata": {},
   "source": [
    "## Q3) Display the number of the customer group by their genders who have placed any order of amount greater than or equal to Rs.3000."
   ]
  },
  {
   "cell_type": "code",
   "execution_count": null,
   "id": "89b1875c",
   "metadata": {},
   "outputs": [],
   "source": [
    "Query3=\"\"\"select customer.CUS_NAME,customer.CUS_GENDER,orders.ORD_AMOUNT from customer,orders where orders.ORD_AMOUNT > 3000\"\"\"\n",
    "\n",
    "cursorObject.execute(Query3)\n",
    "\n",
    "output=cursorObject.fetchall()\n",
    "\n",
    "output_df=pd.DataFrame(output,columns=['CUS_NAME','CUS_GENDER','ORD_AMOUNT'])\n",
    "\n",
    "output_df"
   ]
  },
  {
   "cell_type": "markdown",
   "id": "b04cd1ba",
   "metadata": {},
   "source": [
    "## Q4)Display all the order along with product name ordered by a customer having Customer_Id=2"
   ]
  },
  {
   "cell_type": "code",
   "execution_count": null,
   "id": "4929e4ce",
   "metadata": {},
   "outputs": [],
   "source": [
    "Query4 = \"\"\"select `orders`.*, product.pro_name from `orders`, product_details,product where `orders`.cus_id=2 and `orders`.prod_id=product_details.prod_id and product_details.pro_id=product.pro_id;\"\"\"\n",
    "\n",
    "cursorObject.execute(Query4)\n",
    "\n",
    "output=cursorObject.fetchall()\n",
    "\n",
    "output_df=pd.DataFrame(output,columns=['ORD_ID','ORD_AMOUNT','ORD_DATE','CUS_ID','PROD_ID','PRO_NAME'])\n",
    "\n",
    "output_df"
   ]
  },
  {
   "cell_type": "markdown",
   "id": "e0d76285",
   "metadata": {},
   "source": [
    "## Q5) Display the Supplier details who can supply more than one product."
   ]
  },
  {
   "cell_type": "code",
   "execution_count": null,
   "id": "eae4c800",
   "metadata": {},
   "outputs": [],
   "source": [
    "Query5=\"\"\"select supplier.* from supplier,product_details where supplier.SUPP_ID in (select product_details.SUPP_ID from product_details\n",
    "group by product_details.SUPP_ID having count(product_details.SUPP_ID)>1) group by supplier.SUPP_ID\"\"\"\n",
    "\n",
    "cursorObject.execute(Query5)\n",
    "\n",
    "output=cursorObject.fetchall()\n",
    "\n",
    "output_df=pd.DataFrame(output,columns=['SUPP_ID','SUPP_NAME','SUPP_CITY','SUPP_PHONE'])\n",
    "\n",
    "output_df"
   ]
  },
  {
   "cell_type": "markdown",
   "id": "defc01d0",
   "metadata": {},
   "source": [
    "## Q6) Find the category of the product whose order amount is minimum."
   ]
  },
  {
   "cell_type": "code",
   "execution_count": null,
   "id": "22c47265",
   "metadata": {},
   "outputs": [],
   "source": [
    "Query6=\"\"\"select category.* from `orders` inner join product_details on `orders`.PROD_ID=product_details.PROD_ID\n",
    "inner join product on product.PRO_ID=product_details.PRO_ID\n",
    "inner join category on category.CAT_ID=product.CAT_ID having min(`orders`.ORD_AMOUNT)\"\"\"\n",
    "\n",
    "cursorObject.execute(Query6)\n",
    "\n",
    "output=cursorObject.fetchall()\n",
    "\n",
    "output_df=pd.DataFrame(output,columns=['CAT_ID','CAT_NAME'])\n",
    "\n",
    "output_df\n",
    "\n",
    "#this query is running in mysql , as per instructor i have ran ***set sql_mode=\"\" ***,but still query is not running in the jupyter notebook please help to check on this"
   ]
  },
  {
   "cell_type": "markdown",
   "id": "666d6eda",
   "metadata": {},
   "source": [
    "## Q7) Display the Id and Name of the Product ordered after “2021-10-05”."
   ]
  },
  {
   "cell_type": "code",
   "execution_count": null,
   "id": "2c998afe",
   "metadata": {},
   "outputs": [],
   "source": [
    "Query7=\"\"\"select product.PRO_ID,product.PRO_NAME from `orders` inner join product_details on product_details.PROD_ID=`orders`.PROD_ID\n",
    "inner join product on product.PRO_ID=product_details.PRO_ID where `orders`.ORD_DATE >\"2021-10-05\";\"\"\"\n",
    "\n",
    "cursorObject.execute(Query7)\n",
    "\n",
    "output=cursorObject.fetchall()\n",
    "\n",
    "output_df=pd.DataFrame(output,columns=['PRO_ID','PRO_NAME'])\n",
    "\n",
    "output_df"
   ]
  },
  {
   "cell_type": "markdown",
   "id": "e055ed60",
   "metadata": {},
   "source": [
    "## Q8) Print the top 3 supplier name and id and rating on the basis of their rating along with the customer name who has given the rating."
   ]
  },
  {
   "cell_type": "code",
   "execution_count": null,
   "id": "9ba3d2fd",
   "metadata": {},
   "outputs": [],
   "source": [
    "Query8=\"\"\"select supplier.SUPP_ID,supplier.SUPP_NAME,customer.CUS_NAME,rating.RAT_RATSTARS from rating inner join supplier on rating.SUPP_ID=supplier.SUPP_ID\n",
    "inner join customer on rating.CUS_ID=customer.CUS_ID order by rating.RAT_RATSTARS desc limit 3\"\"\"\n",
    "\n",
    "cursorObject.execute(Query8)\n",
    "\n",
    "output=cursorObject.fetchall()\n",
    "\n",
    "output_df=pd.DataFrame(output,columns=['SUPP_ID','SUPP_NAME','CUS_NAME','RAT_RATSTARS'])\n",
    "\n",
    "output_df"
   ]
  },
  {
   "cell_type": "markdown",
   "id": "27632e50",
   "metadata": {},
   "source": [
    "## Q9) Display customer name and gender whose names start or end with character 'A'."
   ]
  },
  {
   "cell_type": "code",
   "execution_count": null,
   "id": "ef32e151",
   "metadata": {},
   "outputs": [],
   "source": [
    "Query9 = \"\"\"select customer.CUS_NAME, customer.CUS_GENDER from customer where customer.CUS_NAME like 'A%' or customer.CUS_NAME like '%A';\"\"\"\n",
    "\n",
    "cursorObject.execute(Query9)\n",
    "\n",
    "output=cursorObject.fetchall()\n",
    "\n",
    "output_df = pd.DataFrame(output,columns=['CUS_NAME','CUS_GENDER'])\n",
    "\n",
    "output_df"
   ]
  },
  {
   "cell_type": "markdown",
   "id": "b6db11b1",
   "metadata": {},
   "source": [
    "## Q10) Display the total order amount of the male customers."
   ]
  },
  {
   "cell_type": "code",
   "execution_count": null,
   "id": "e5fcf6e9",
   "metadata": {},
   "outputs": [],
   "source": [
    "Query10=\"\"\"select \tsum(orders.ORD_AMOUNT) as Amount from orders inner join customer on orders.CUS_ID=customer.CUS_ID where customer.CUS_GENDER='M';\"\"\"\n",
    "\n",
    "cursorObject.execute(Query10)\n",
    "\n",
    "output=cursorObject.fetchall()\n",
    "\n",
    "print(\"Amount is :\", output)"
   ]
  },
  {
   "cell_type": "markdown",
   "id": "3a27a329",
   "metadata": {},
   "source": [
    "## Q11) Display all the Customers left outer join with  the orders"
   ]
  },
  {
   "cell_type": "code",
   "execution_count": null,
   "id": "df0fed12",
   "metadata": {},
   "outputs": [],
   "source": [
    "Query11=\"\"\"select * from customer left outer join orders on customer.CUS_ID=orders.CUS_ID;\"\"\"\n",
    "\n",
    "cursorObject.execute(Query11)\n",
    "\n",
    "output=cursorObject.fetchall()\n",
    "\n",
    "output_df = pd.DataFrame(output,columns=['CUS_ID','CUS_NAME','CUS_PHONE','CUS_CITY','CUS_GENDER','ORD_ID','ORD_AMOUNT','ORD_DATE','CUS_ID','PROD_ID'])\n",
    "\n",
    "output_df\n"
   ]
  }
 ],
 "metadata": {
  "kernelspec": {
   "display_name": "Python 3 (ipykernel)",
   "language": "python",
   "name": "python3"
  },
  "language_info": {
   "codemirror_mode": {
    "name": "ipython",
    "version": 3
   },
   "file_extension": ".py",
   "mimetype": "text/x-python",
   "name": "python",
   "nbconvert_exporter": "python",
   "pygments_lexer": "ipython3",
   "version": "3.11.5"
  }
 },
 "nbformat": 4,
 "nbformat_minor": 5
}
